{
 "cells": [
  {
   "cell_type": "markdown",
   "metadata": {},
   "source": [
    "# Bienvenue dans cette fiche sur le recouvrement."
   ]
  },
  {
   "cell_type": "code",
   "execution_count": 1,
   "metadata": {},
   "outputs": [],
   "source": [
    "%matplotlib inline\n",
    "\n",
    "import numpy as np\n",
    "import matplotlib\n",
    "import matplotlib.pyplot as plt\n",
    "import ipywidgets as widgets\n",
    "from ipywidgets import interact\n",
    "\n",
    "matplotlib.rcParams['figure.figsize'] = [10,7]"
   ]
  },
  {
   "cell_type": "markdown",
   "metadata": {},
   "source": [
    "## Le recouvrement : introduction"
   ]
  },
  {
   "cell_type": "markdown",
   "metadata": {},
   "source": [
    "Lorsque deux orbitales atomiques $\\phi_a$ et $\\phi_b$ sont en présence, leur interaction va dépendre de leur recouvrement $S_{ab}$.\n",
    "Si leur recouvrement est différent de zéro (il peut être positif ou négatif), elles interagiront. Dans le cas contraire (c'est-à-dire si leur recouvrement est nul), elles sont dites orthogonales et n'interagissent pas.\n",
    "\n",
    "Selon la théorie LCAO (linear combination of atomic orbitals), si deux orbitales interagissent, elles vont permettre de former deux orbitales moléculaires qui en seront deux combinaisons linéaires $\\Psi_1$ et $\\Psi_2$. On peut écrire cela de la manière suivante :\n",
    "\\begin{align}\n",
    "\\text{Si }& S_{ab}\\ne 0 :\\\\\n",
    "\\Psi_1 & = c_{1a}\\phi_a + c_{1b}\\phi_b\\\\\n",
    "\\Psi_2 & = c_{2a}\\phi_a + c_{2b}\\phi_b\\\\\n",
    "\\text{avec }&c_{1a}, c_{1b}, c_{2a}, c_{2b} \\in \\mathbb{R}\n",
    "\\end{align}"
   ]
  },
  {
   "cell_type": "markdown",
   "metadata": {},
   "source": [
    "## Le recouvrement: définition\n",
    "Le recouvrement entre deux orbitales $\\phi_a$ et $\\phi_b$, noté $S_{ab}$, est définit de la manière suivante:\n",
    "\\begin{align}\n",
    "S_{ab} = \\int_\\forall\\phi_a\\phi_b^*dV\n",
    "\\end{align}\n",
    "On note que l'on doit prendre le complexe conjugué de $\\phi_b$. Heureusement, en ce qui concerne ce cours, nous ne considèrerons que des fonctions réelles, donc $\\phi^*_b=\\phi_b$.\n",
    "Le symbole $\\int_\\forall$ désigne une intégration sur tout l'espace.\n",
    "En coordonnées cartésiennes, il s'agit d'intégrer sur les ensembles de définition des coordonnées cartésiennes $x$, $y$ et $z$.\n",
    "Comme $x\\in\\left]-\\infty;+\\infty\\right[$, $y\\in\\left]-\\infty;+\\infty\\right[$ et $z\\in\\left]-\\infty;+\\infty\\right[$, on peut réécire l'équation précédente de la manière suivante:\n",
    "\\begin{align}\n",
    "S_{ab} & = \\int_{x=-\\infty}^{+\\infty}\\int_{y=-\\infty}^{+\\infty}\\int_{z=-\\infty}^{+\\infty}\\phi_a(x,y,z)\\phi_b^*(x,y,z)dxdydz\n",
    "\\end{align}\n",
    "que l'on réécrit en omettant les variables:\n",
    "\\begin{align}\n",
    "S_{ab} & = \\int\\int\\int\\phi_a\\phi_b^*dxdydz\n",
    "\\end{align}\n",
    "Dans le cadre des orbitales atomiques, nous travaillerons en [coordonnées sphériques](https://fr.wikipedia.org/wiki/Coordonn%C3%A9es_sph%C3%A9riques). Dans ce cas $r\\in\\left[0;+\\infty\\right[$, $\\theta\\in\\left[0;\\pi\\right]$ et $\\phi\\in\\left[0;2\\pi\\right]$ et l'élément de volume s'écrit $dV=r^2\\sin\\theta drd\\theta d\\phi$."
   ]
  },
  {
   "cell_type": "markdown",
   "metadata": {},
   "source": [
    "## Le recouvrement : évaluation graphique\n",
    "Le recouvrement est donc définit comme une intégrale. Au sens de Riemann, c'est une [somme d'éléments infiniment petits](https://fr.wikipedia.org/wiki/Somme_de_Riemann). Ainsi, on va raisonner sur la nullité ou non du produit $P_{ab}=\\phi_a\\phi^*_b$ (dans la suite, nous nous limiterons à $P_{ab}=\\phi_a\\phi_b$).\n",
    "On peut dire d'emblée que:\n",
    "* si $P_{ab}$ est toujours nul, alors $S_{ab}$ est nul;\n",
    "* si $P_{ab}$ est toujours positif, alors $S_{ab}$ est positif (idem pour négatif);\n",
    "* si $P_{ab}$ est positif dans une partie de l'espace et négatif dans une autre partie de l'espace et que ces deux parties sont égales en valeur absolue, alors elles se compensent et $P_{ab}$ est nul."
   ]
  },
  {
   "cell_type": "code",
   "execution_count": 2,
   "metadata": {
    "scrolled": false
   },
   "outputs": [
    {
     "data": {
      "application/vnd.jupyter.widget-view+json": {
       "model_id": "f945133a826244eea4a50bfd68ccf70b",
       "version_major": 2,
       "version_minor": 0
      },
      "text/plain": [
       "interactive(children=(FloatSlider(value=2.4, description='distance', max=5.0, min=-5.0, step=0.2), Output()), …"
      ]
     },
     "metadata": {},
     "output_type": "display_data"
    }
   ],
   "source": [
    "\"\"\"Ceci est le code en python 3 qui permet de générer les figures.\"\"\"\n",
    "def trace_recouvrement(distance):\n",
    "    #Creation de la figure\n",
    "    fig, ax = plt.subplots(1,2)\n",
    "    plt.title('Illustration du recouvrement entre orbitales s', fontsize=18)\n",
    "    ax[0].set_aspect(\"equal\") # les axes x et y ont la même échelle\n",
    "    ax[0].set_xlim(-3,3)      # Valeurs minimales et maximales de x et y\n",
    "    ax[0].set_ylim(-3,3)\n",
    "    #Création des cercles\n",
    "    phi_a = plt.Circle((-distance/2, 0), 1.1, hatch = \"////\", color=\"blue\", alpha=0.5)\n",
    "    phi_b = plt.Circle(( distance/2, 0), 1.1, hatch = \"////\", color=\"blue\", alpha=0.5)\n",
    "    #ajout des cercles dans le graphique\n",
    "    ax[0].add_artist(phi_a)\n",
    "    ax[0].add_artist(phi_b)\n",
    "    #On trace l'axe x : c'est l'axe de liaison\n",
    "    ax[0].axhline(y=0, color='k')\n",
    "    #Ajout du texte donnant la valeur de S\n",
    "    ax[0].text(-2,-2,\"S = {:3.2f}\".format(np.exp(-distance*distance)), fontsize=16)\n",
    "    \n",
    "    x = np.linspace(-5, 5, 41)\n",
    "    y = np.exp(-x*x)\n",
    "    ax[1].plot(x,y)\n",
    "    ax[1].plot([distance],[np.exp(-distance*distance)],'ro')\n",
    "    \n",
    "t = interact(trace_recouvrement, distance=widgets.FloatSlider(min=-5, max=5, step=0.2, value=2.4));"
   ]
  },
  {
   "cell_type": "markdown",
   "metadata": {},
   "source": [
    "On voit qu'à longue distance (utilisez le curseur pour mettre la valeur de la distance supérieure à 2.2), le recouvrement est négligeable. On le considèrera comme nul: il n'y a pas d'interaction entre les orbitales."
   ]
  },
  {
   "cell_type": "markdown",
   "metadata": {},
   "source": [
    "Que se passe-t-il lorsque les orbitales se rapprochent (mettez la distance à 1.6)?\n",
    "\n",
    "Le recouvrement, visible dans la partie foncée entre les orbitales est de faible amplitude mais il n'est plus nul. De plus, on sait qu'il est positif dans le cas de deux orbitales $s$ car elles sont de même signe, donc leur produit est positif, donc $S>0$."
   ]
  },
  {
   "cell_type": "markdown",
   "metadata": {},
   "source": [
    "Lorsque les orbitales sont très proches, voire confondues (distance proche de 0), le recouvrement, visible dans la partie foncée entre les orbitales est de grande amplitude: les orbitales vont interagir fortement. Pour les mêmes raisons que précédement, on sait qu'il est positif."
   ]
  },
  {
   "cell_type": "markdown",
   "metadata": {},
   "source": [
    "## Type de recouvrement"
   ]
  },
  {
   "cell_type": "markdown",
   "metadata": {},
   "source": [
    "### Le recouvrement nul\n",
    "Lorsque le prosuit de deux orbitales se fait dans deux parties de l'espace et qu'il est de même valeur mais de signe opposé, le recouvrement est toujours nul. Ce n'est ni un recouvrement $\\sigma$, ni un recouvrement $\\pi$. Il est nul, il n'a pas de nom."
   ]
  },
  {
   "cell_type": "code",
   "execution_count": 3,
   "metadata": {},
   "outputs": [
    {
     "data": {
      "application/vnd.jupyter.widget-view+json": {
       "model_id": "9e1e2d8007ec491896ccbaa9d95b27d8",
       "version_major": 2,
       "version_minor": 0
      },
      "text/plain": [
       "interactive(children=(FloatSlider(value=2.4, description='distance', max=5.0, min=-5.0, step=0.2), Output()), …"
      ]
     },
     "metadata": {},
     "output_type": "display_data"
    }
   ],
   "source": [
    "\"\"\"Ceci est le code en python 3 qui permet de générer les figures.\"\"\"\n",
    "def trace_recouvrement_nul(distance):\n",
    "    #Creation de la figure\n",
    "    fig, ax = plt.subplots(1,2)\n",
    "    plt.title(\"Illustration du recouvrement entre orbitales une orbitale s et une orbitale p perpendiculaire à l'axe de liaison\", fontsize=18)\n",
    "    ax[0].set_aspect(\"equal\") # les axes x et y ont la même échelle\n",
    "    ax[0].set_xlim(-3,3)      # Valeurs minimales et maximales de x et y\n",
    "    ax[0].set_ylim(-3,3)\n",
    "    #Création des cercles\n",
    "    phi_a = plt.Circle((-distance/2, 0), 1.1, hatch = \"////\", color=\"blue\", alpha=0.5)\n",
    "    phi_b_plus  = plt.Circle(( distance/2,  1.1), 1.1, hatch = \"////\", color=\"blue\", alpha=0.5)\n",
    "    phi_b_moins = plt.Circle(( distance/2, -1.1), 1.1, hatch = \"\", color=\"red\", alpha=0.5)\n",
    "    #ajout des cercles dans le graphique\n",
    "    ax[0].add_artist(phi_a)\n",
    "    ax[0].add_artist(phi_b_plus)\n",
    "    ax[0].add_artist(phi_b_moins)\n",
    "    #On trace l'axe x : c'est l'axe de liaison\n",
    "    ax[0].axhline(y=0, color='k')\n",
    "    #Ajout du texte donnant la valeur de S\n",
    "    ax[0].text(-2,-2,\"S = {:3.2f}\".format(0), fontsize=16)\n",
    "    \n",
    "    x = np.linspace(-5, 5, 41)\n",
    "    y = np.zeros(len(x))\n",
    "    ax[1].plot(x,y)\n",
    "    ax[1].plot([distance],[0],'ro')\n",
    "    \n",
    "t = interact(trace_recouvrement_nul, distance=widgets.FloatSlider(min=-5, max=5, step=0.2, value=2.4));"
   ]
  },
  {
   "cell_type": "markdown",
   "metadata": {},
   "source": [
    "### Le recouvrement $\\sigma$ (sigma)\n",
    "Le recouvrement $\\sigma$, se fait le long de l'axe de liaison en une région de l'espace. C'est le cas par exemple dans la section précédente."
   ]
  },
  {
   "cell_type": "markdown",
   "metadata": {},
   "source": [
    "### Le recouvrement $\\pi$ (pi)\n",
    "Le recouvrement $\\pi$, se fait hors de l'axe de liaison en deux régions de l'espace."
   ]
  },
  {
   "cell_type": "code",
   "execution_count": 4,
   "metadata": {
    "scrolled": true
   },
   "outputs": [
    {
     "data": {
      "application/vnd.jupyter.widget-view+json": {
       "model_id": "f76a0579ff9f45a7969048ee6f38d8f0",
       "version_major": 2,
       "version_minor": 0
      },
      "text/plain": [
       "interactive(children=(FloatSlider(value=2.4, description='distance', max=5.0, min=-5.0, step=0.2), Output()), …"
      ]
     },
     "metadata": {},
     "output_type": "display_data"
    }
   ],
   "source": [
    "\"\"\"Ceci est le code en python 3 qui permet de générer les figures.\"\"\"\n",
    "def trace_recouvrement_pi(distance):\n",
    "    #Creation de la figure\n",
    "    fig, ax = plt.subplots(1,2)\n",
    "    plt.title('Illustration du recouvrement entre orbitales p', fontsize=18)\n",
    "\n",
    "    ax[0].set_aspect(\"equal\") # les axes x et y ont la même échelle\n",
    "    ax[0].set_xlim(-3,3)      # Valeurs minimales et maximales de x et y\n",
    "    ax[0].set_ylim(-3,3)\n",
    "    #Création des cercles\n",
    "    phi_a_plus  = plt.Circle((-distance/2,  1.1), 1.1, hatch = \"////\", color=\"blue\", alpha=0.5)\n",
    "    phi_a_moins = plt.Circle((-distance/2, -1.1), 1.1, hatch = \"\", color=\"red\", alpha=0.5)\n",
    "    phi_b_plus  = plt.Circle(( distance/2,  1.1), 1.1, hatch = \"////\", color=\"blue\", alpha=0.5)\n",
    "    phi_b_moins = plt.Circle(( distance/2, -1.1), 1.1, hatch = \"\", color=\"red\", alpha=0.5)\n",
    "    #ajout des cercles dans le graphique\n",
    "    ax[0].add_artist(phi_a_plus)\n",
    "    ax[0].add_artist(phi_a_moins)\n",
    "    ax[0].add_artist(phi_b_plus)\n",
    "    ax[0].add_artist(phi_b_moins)\n",
    "    #On trace l'axe x : c'est l'axe de liaison\n",
    "    ax[0].axhline(y=0, color='k')\n",
    "    #Ajout du texte donnant la valeur de S\n",
    "    ax[0].text(-2,-2,\"S = {:3.2f}\".format(np.exp(-distance*distance)), fontsize=16)\n",
    "    \n",
    "    x = np.linspace(-5, 5, 41)\n",
    "    y = np.exp(-x*x)\n",
    "    ax[1].plot(x,y)\n",
    "    ax[1].plot([distance],[np.exp(-distance*distance)],'ro')\n",
    "\n",
    "t=interact(trace_recouvrement_pi,distance=widgets.FloatSlider(min=-5, max=5, step=0.2, value=2.4));"
   ]
  },
  {
   "cell_type": "markdown",
   "metadata": {},
   "source": [
    "Maintenant que nous avons vu les différents cas de recouvrement possible, on peut discuter des orbitales qui peuvent interagir entre elles."
   ]
  },
  {
   "cell_type": "code",
   "execution_count": null,
   "metadata": {},
   "outputs": [],
   "source": []
  }
 ],
 "metadata": {
  "kernelspec": {
   "display_name": "Python 3",
   "language": "python",
   "name": "python3"
  },
  "language_info": {
   "codemirror_mode": {
    "name": "ipython",
    "version": 3
   },
   "file_extension": ".py",
   "mimetype": "text/x-python",
   "name": "python",
   "nbconvert_exporter": "python",
   "pygments_lexer": "ipython3",
   "version": "3.8.2"
  }
 },
 "nbformat": 4,
 "nbformat_minor": 4
}
