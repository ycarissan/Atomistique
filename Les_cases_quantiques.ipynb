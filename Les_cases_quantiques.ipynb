{
 "cells": [
  {
   "cell_type": "markdown",
   "metadata": {},
   "source": [
    "# Les cases quantiques"
   ]
  },
  {
   "cell_type": "markdown",
   "metadata": {},
   "source": [
    "## Les nombres quantiques : caractérisation des orbitales\n",
    "Les orbitales atomiques sont solutions de l'équation de Schrödinger.\n",
    "Cette équation s'écrit:\n",
    "\\begin{align}\n",
    "\\hat{H}\\Psi = E\\Psi\n",
    "\\end{align}\n",
    "Nous n'allons pas résoudre cette équation (la résolution de cette équation sort du cadre de ce cours).\n",
    "Il nous suffit de savoir que les solutions de cette équations sont les orbitales (les fonctions $\\Psi$) qu'occupent les électrons et leurs énergies associées ($E$).\n",
    "Dans le cas de l'atome d'hydrogène, il est possible (mais difficile) de résoudre l'équation de Schrödinger.\n",
    "\n",
    "Il se trouve, et nous accepterons ce résultat, que les solutions de cette équation pour l'atome d'hydrogène, sont caractérisées par 3 nombres __entiers__:\n",
    "* $n$ que l'on appelle le nombre quantique principal;\n",
    "* $l$ que l'on appelle le nombre quantique angulaire;\n",
    "* $m_l$ que l'on appelle le nombre quantique magnétique.\n",
    "\n",
    "Il se trouve, et c'est un autre résultat que nous accepterons, que ces nombres doivent absolument respecter les inégalités suivantes:\n",
    "\\begin{align}\n",
    "n \\le & 0\\\\\n",
    "0\\le & l \\le n-1\\\\\n",
    "-l\\le & m_l\\le+l\n",
    "\\end{align}\n",
    "\n",
    "Enfin, il nous faut savoir que les électrons sont caractérisés par un nombre quantique $m_s$, que l'on appelle le nombre quantique de spin.\n",
    "Un électron a soit $m_S = \\frac{1}{2}$, soit $m_S =-\\frac{1}{2}$. __Il n'existe pas d'autre cas__.\n",
    "\n",
    "Armés de ces connaissances, nous allons pouvoir représenter les occupation des orbitales atomiques sous forme de cases."
   ]
  },
  {
   "cell_type": "markdown",
   "metadata": {},
   "source": [
    "## L'énergie des orbitales\n",
    "Le lecteur attentif pourrait faire la remarque suivante:\n",
    "\n",
    "<cite>\"Certes, les orbitales sont caractérisées par 3 nombres entiers. Je les note $\\Psi_{n,l,m_l}$ mais l'équation de Scrödinger contient un terme $E$ dont nous n'avons pas parlé. L'énergie ne devrait-elle pas aussi dépendre de ces nombres?\"</cite>\n",
    "\n",
    "Il aurait raison, alors parlons-en.\n",
    "    \n",
    "Nous n'avons pas résolu l'équation de Schrödinger pour obtenir les fonctions $\\Psi_{n,l,m_l}$, nous n'allons pas la résoudre pour trouver les énergies. Pour cela, nous allons utiliser la [règle de Klechkowski](https://fr.wikipedia.org/wiki/R%C3%A8gle_de_Klechkowski). Cette règle est en deux parties:\n",
    "1. L'énergie d'une orbitale est d'autant plus grande que sa valeur de $(n+l)$ est grande\n",
    "2. Si deux orbitales ont la même valeur de $(n+l)$, alors c'est celle qui a la valeur de $n$ la plus grande qui l'énergie la plus élevée des deux.\n",
    "On note que selon cette règle, l'énergie ne dépend que de $n$ et de $l$. __L'énergie ne dépend pas de $m_l$__."
   ]
  },
  {
   "cell_type": "markdown",
   "metadata": {},
   "source": [
    "## Construction des orbitales par énergie croissante\n",
    "Comme l'énergie varie selon $(n+l)$ et $n$, faisons un tableau qui indique les valeurs de $(n+l)$ croissantes, les valeurs de $n$ (qui nous serviront si des orbitales ont la même valeur $(n+l)$) et les valeurs possible de $m_l$. Pour les 5 première valeurs de $(n+l)$, on a:\n",
    "\n",
    "|n+l  |  n  | l   | m$_l$              |nom|dégénérescence| ordre de remplissage |\n",
    "|:---:|:---:|:---:|:---:               |---|---|:---: |\n",
    "| 1   | 1   | 0   |   0                | 1s|1 orbitale  |1ère  |\n",
    "| 2   | 2   | 0   |   0                | 2s|1 orbitale  |2ème  |\n",
    "| 3   | 2   | 1   |   0, -1, +1        | 2p|3 orbitales |3ème  |\n",
    "| 3   | 3   | 0   |   0                | 3s|1 orbitale  |4ème  |\n",
    "| 4   | 3   | 1   |   0, -1, +1        | 3p|3 orbitales |5ème  |\n",
    "| 4   | 4   | 0   |   0                | 4s|1 orbitale  |6ème  |\n",
    "| 5   | 3   | 2   |   0, -1, +1, -2, +2| 3d|5 orbitales |7ème  |\n",
    "| 5   | 4   | 1   |   0, -1, +1        | 4p|3 orbitales |8éme  |\n",
    "| 5   | 5   | 0   |   0                | 5s|1 orbitale  |9éme  |\n",
    "\n",
    "Si l'on souhaite remplir les orbitales par énergie croissante, on les remplit dans l'ordre suivant:\n",
    "1s, 2s, 2p, 3s, 3p, 4s, 3d, 4p, 5s, et ainsi de suite en suivant les mêmes règles."
   ]
  },
  {
   "cell_type": "markdown",
   "metadata": {},
   "source": [
    "## Configurations électroniques\n",
    "### Remplissage des orbitales\n",
    "Les orbitales peuvent être occupées par un certain nombre d'électrons.\n",
    "La __règle de Pauli__ indique que deux électrons ne peuvent pas avoir leurs quatre nombres quantiques égaux.\n",
    "Lorsqu'un électron occupe une orbitale $\\Psi_{n,l,m_l}$, il est caractérisé par ces nombres. N'oublions pas qu'un électron est aussi caractérisé par son nombre quantique de spin, $m_S$.\n",
    "Ainsi, un électron est complètement caractérisé par la donnée de ses quatre nombres: $n, l, m_l, m_S$.\n",
    "On en déduit qu'une orbitale peut accueillir au maximum deux électrons, l'un de spin $+\\frac{1}{2}$ et l'autre de spin $-\\frac{1}{2}$.\n",
    "\n",
    "### Les cases quantiques\n",
    "Pour représenter l'occupation des orbitales, on utilise une représentation graphique.\n",
    "Une orbitale (c'est-à-dire un jeu de valeur $n, l, m_l$) est représentée par une case:\n",
    "<img src=\"images/s_vide.png\" height=\"5\" >\n",
    "Lorsque les orbitales sont dégénérées, on les représente comme des cases accolées. Par exemple, les orbitales $p$ sont représentées par 3 cases adjacentes:\n",
    "<img src=\"images/p_vides.png\" height=\"10\" >\n",
    "\n",
    "Un électron est représenté par une flèche vers le haut si son spin est $+\\frac{1}{2}$ et une flèche vers le bas si son spin est $-\\frac{1}{2}$.\n",
    "\n",
    "#### Représentation des orbitales s\n",
    "Pour toute les orbitales $s$, la valeur de $l$ est $0$. \n",
    "\n",
    "### État fondamental\n",
    "L'état fondamental est l'état dont la configuration électronique a l'énergie la plus basse. Pour l'obtenir, "
   ]
  },
  {
   "cell_type": "code",
   "execution_count": null,
   "metadata": {},
   "outputs": [],
   "source": []
  }
 ],
 "metadata": {
  "kernelspec": {
   "display_name": "Python 3",
   "language": "python",
   "name": "python3"
  },
  "language_info": {
   "codemirror_mode": {
    "name": "ipython",
    "version": 3
   },
   "file_extension": ".py",
   "mimetype": "text/x-python",
   "name": "python",
   "nbconvert_exporter": "python",
   "pygments_lexer": "ipython3",
   "version": "3.8.2"
  }
 },
 "nbformat": 4,
 "nbformat_minor": 4
}
